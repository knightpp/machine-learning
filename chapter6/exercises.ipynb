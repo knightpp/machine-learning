{
 "cells": [
  {
   "cell_type": "markdown",
   "metadata": {},
   "source": [
    "# Exercises"
   ]
  },
  {
   "cell_type": "code",
   "execution_count": 39,
   "metadata": {},
   "outputs": [],
   "source": [
    "import classifier\n",
    "import numpy as np\n"
   ]
  },
  {
   "cell_type": "markdown",
   "metadata": {},
   "source": [
    "### Exercise 6.1\n",
    "$$ \\sigma(d + 0.5c - 0.8) $$"
   ]
  },
  {
   "cell_type": "code",
   "execution_count": 40,
   "metadata": {},
   "outputs": [
    {
     "data": {
      "text/plain": [
       "66.81877721681661"
      ]
     },
     "execution_count": 40,
     "metadata": {},
     "output_type": "execute_result"
    }
   ],
   "source": [
    "c = 1\n",
    "d = 1\n",
    "prob = classifier.sigmoid(d+0.5*c-0.8)\n",
    "prob*100\n"
   ]
  },
  {
   "cell_type": "markdown",
   "metadata": {},
   "source": [
    "### Exercise 6.2"
   ]
  },
  {
   "cell_type": "code",
   "execution_count": 41,
   "metadata": {},
   "outputs": [],
   "source": [
    "def model(x1, x2):\n",
    "    return classifier.sigmoid(2*x1 + 3*x2 - 4)\n",
    "\n",
    "\n",
    "p = (1, 1)\n",
    "l = 0\n"
   ]
  },
  {
   "cell_type": "markdown",
   "metadata": {},
   "source": [
    "#### a"
   ]
  },
  {
   "cell_type": "code",
   "execution_count": 42,
   "metadata": {},
   "outputs": [
    {
     "data": {
      "text/plain": [
       "0.7310585786300049"
      ]
     },
     "execution_count": 42,
     "metadata": {},
     "output_type": "execute_result"
    }
   ],
   "source": [
    "predict = model(p[0], p[1])\n",
    "predict\n"
   ]
  },
  {
   "cell_type": "markdown",
   "metadata": {},
   "source": [
    "#### b"
   ]
  },
  {
   "cell_type": "code",
   "execution_count": 43,
   "metadata": {},
   "outputs": [
    {
     "name": "stdout",
     "output_type": "stream",
     "text": [
      "log loss by hand  = 1.3132616875182228\n",
      "log loss computer = 1.3132616875182228\n"
     ]
    }
   ],
   "source": [
    "log_loss = -np.log(1-predict)\n",
    "print(f\"log loss by hand  = {log_loss}\")\n",
    "f = classifier.Logistic([2, 3], -4)\n",
    "print(f\"log loss computer = {f.log_loss([1, 1], 0)}\")\n"
   ]
  },
  {
   "cell_type": "markdown",
   "metadata": {},
   "source": [
    "#### c, d"
   ]
  },
  {
   "cell_type": "code",
   "execution_count": 44,
   "metadata": {},
   "outputs": [
    {
     "name": "stdout",
     "output_type": "stream",
     "text": [
      "log loss: 1.3132616875182228\n",
      "weights: [2, 3]\n",
      "bias: -4\n"
     ]
    }
   ],
   "source": [
    "# f.trick(np.array([p[0], p[1]]), 0, learning_rate=0.1)\n",
    "print(\"log loss: {}\\nweights: {}\\nbias: {}\".format(\n",
    "    f.log_loss(np.array([p[0], p[1]]), 0),\n",
    "    f.weights,\n",
    "    f.bias,\n",
    ")\n",
    ")\n"
   ]
  },
  {
   "cell_type": "markdown",
   "metadata": {},
   "source": [
    "### Exercise 6.3"
   ]
  },
  {
   "cell_type": "markdown",
   "metadata": {},
   "source": [
    "Finding X when Y is 0.8 [1]\n",
    "$$  0.8 = e^x/(1+e^x) $$\n",
    "\n",
    "Input for sigmoid should be\n",
    "$$ log(4) \\approx 1.38629 $$\n",
    "\n",
    "Finding Weights and Bias when Score is $log(4)$\n",
    "$$ w_1*x_1 + w_2*x_2 + bias = log(4) $$\n",
    "$$ 2*x_1 + 3*x_2 - 4 = log(4) $$\n",
    "$$ x_1 = (log(4) - 3*x_2 + 4)/2 $$\n",
    "\n",
    "\n",
    "---\n",
    "\n",
    "[1]: <#> \"Thanks wolfram for solving this\""
   ]
  },
  {
   "cell_type": "code",
   "execution_count": 50,
   "metadata": {},
   "outputs": [
    {
     "data": {
      "text/plain": [
       "0.8000000000000006"
      ]
     },
     "execution_count": 50,
     "metadata": {},
     "output_type": "execute_result"
    }
   ],
   "source": [
    "import random\n",
    "\n",
    "x2 = random.randrange(0, 100)  # any number\n",
    "x1 = (np.log(4) - 3*x2+4)/2\n",
    "f.predict(np.array([x1, x2]))\n"
   ]
  }
 ],
 "metadata": {
  "kernelspec": {
   "display_name": "Python 3.10.4 64-bit",
   "language": "python",
   "name": "python3"
  },
  "language_info": {
   "codemirror_mode": {
    "name": "ipython",
    "version": 3
   },
   "file_extension": ".py",
   "mimetype": "text/x-python",
   "name": "python",
   "nbconvert_exporter": "python",
   "pygments_lexer": "ipython3",
   "version": "3.10.4"
  },
  "orig_nbformat": 4,
  "vscode": {
   "interpreter": {
    "hash": "949777d72b0d2535278d3dc13498b2535136f6dfe0678499012e853ee9abcab1"
   }
  }
 },
 "nbformat": 4,
 "nbformat_minor": 2
}
